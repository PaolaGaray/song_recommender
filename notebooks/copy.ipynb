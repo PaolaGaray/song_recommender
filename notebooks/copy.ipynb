{
 "cells": [
  {
   "cell_type": "code",
   "execution_count": 1,
   "id": "bf94179f-180c-408e-8287-de1649736c00",
   "metadata": {},
   "outputs": [],
   "source": [
    "# libraries\n",
    "import streamlit as st\n",
    "import spotipy\n",
    "from spotipy.oauth2 import SpotifyClientCredentials\n",
    "import pickle\n",
    "import pandas as pd\n",
    "\n",
    "import sys\n",
    "sys.path.append('..')\n",
    "import config\n"
   ]
  },
  {
   "cell_type": "code",
   "execution_count": 2,
   "id": "128c7ce1-aed2-4763-86db-dd8ef34f79e2",
   "metadata": {},
   "outputs": [],
   "source": [
    "# Load the KMeans model\n",
    "with open('../models/Gnod_Kmeans_4.pkl', 'rb') as f:\n",
    "    kmeans = pickle.load(f)"
   ]
  },
  {
   "cell_type": "code",
   "execution_count": 3,
   "id": "587c6495-f0e5-4351-a9e9-0c0d9d612aca",
   "metadata": {},
   "outputs": [],
   "source": [
    "# Load your playlist dataframe (where the clusters and songs are stored)\n",
    "playlist_df = pd.read_csv(\"../data/clean/big_playlist_df.csv\")  # Adjust the path"
   ]
  },
  {
   "cell_type": "code",
   "execution_count": 4,
   "id": "30b5cb83-6c40-48b0-98d3-9870b2d60386",
   "metadata": {},
   "outputs": [],
   "source": [
    "# Set up Spotipy with your credentials\n",
    "sp = spotipy.Spotify(auth_manager=SpotifyClientCredentials(client_id=config.SPOTIFY_CLIENT_ID,\n",
    "                                                          client_secret=config.SPOTIFY_CLIENT_SECRET))\n"
   ]
  },
  {
   "cell_type": "code",
   "execution_count": 6,
   "id": "049330fe-787c-4902-bf03-bdb340a3b505",
   "metadata": {},
   "outputs": [],
   "source": [
    "\n",
    "# Define functions for fetching song data and making predictions\n",
    "\n",
    "def fetch_song_data(song_input, artist_input):\n",
    "    # Add artist in search\n",
    "    result = sp.search(q=song_input, limit=1, market=\"DE\")\n",
    "    result['tracks']['items']\n",
    "    song_id = result['tracks']['items'][0]['id']\n",
    "    return song_id\n",
    "\n",
    "\n",
    "def get_song_features(song_id):\n",
    "    # Get the song features\n",
    "    feature_list = [\"danceability\", \"energy\", \"loudness\", \"speechiness\", \"acousticness\", \n",
    "                    \"instrumentalness\", \"liveness\", \"valence\", \"tempo\", \"duration_ms\"]\n",
    "    song_feats = sp.audio_features([song_id])  # Fetch song features as a list\n",
    "    \n",
    "    # Convert to DataFrame\n",
    "    feats_df = pd.DataFrame(song_feats)\n",
    "    return feats_df[feature_list]\n",
    "\n",
    "def clustify(X):\n",
    "    cluster = kmeans.predict(X)\n",
    "    cluster = cluster[0]  # Take the first prediction from array\n",
    "    return cluster\n",
    "\n",
    "def recommender(cluster_num):\n",
    "    cluster_songs = playlist_df.loc[playlist_df['cluster'] == cluster_num]  # Find songs in the same cluster\n",
    "    random_sample = cluster_songs.sample(n=1, random_state=42)  # Select one random song\n",
    "    song_name = random_sample['names'].values[0]  # Get the song name\n",
    "    return song_name\n",
    "\n"
   ]
  },
  {
   "cell_type": "code",
   "execution_count": null,
   "id": "6955f589-1fec-4b29-b222-d2b2a344eea4",
   "metadata": {},
   "outputs": [],
   "source": [
    "# Streamlit app code starts here\n",
    "st.title('Song Recommendation Engine')\n",
    "\n",
    "# Take user input for song and artist\n",
    "song_input = st.text_input(\"Enter a song name:\")\n",
    "artist_input = st.text_input(\"Enter the artist's name:\")\n",
    "\n",
    "# Button to trigger recommendation\n",
    "if st.button('Recommend a Song'):\n",
    "    if song_input and artist_input:\n",
    "        song_id = fetch_song_data(song_input, artist_input)\n",
    "        \n",
    "        if song_id:\n",
    "            # Get song features and predict the cluster\n",
    "            X = get_song_features(song_id)\n",
    "            cluster_num = clustify(X)\n",
    "            \n",
    "            # Get recommendation\n",
    "            recommended_song = recommender(cluster_num)\n",
    "            \n",
    "            # Display the recommendation\n",
    "            st.success(f\"Based on '{song_input}' by {artist_input}, we recommend: '{recommended_song}'!\")\n",
    "        else:\n",
    "            st.error(\"Could not find the song. Please try again.\")\n",
    "    else:\n",
    "        st.warning(\"Please enter both the song name and the artist's name.\")"
   ]
  }
 ],
 "metadata": {
  "kernelspec": {
   "display_name": "Song Recommendation Env",
   "language": "python",
   "name": "song_recommendation_env"
  },
  "language_info": {
   "codemirror_mode": {
    "name": "ipython",
    "version": 3
   },
   "file_extension": ".py",
   "mimetype": "text/x-python",
   "name": "python",
   "nbconvert_exporter": "python",
   "pygments_lexer": "ipython3",
   "version": "3.12.7"
  }
 },
 "nbformat": 4,
 "nbformat_minor": 5
}
